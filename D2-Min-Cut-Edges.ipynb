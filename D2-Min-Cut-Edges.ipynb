{
 "cells": [
  {
   "cell_type": "code",
   "execution_count": 1,
   "metadata": {},
   "outputs": [
    {
     "name": "stdout",
     "output_type": "stream",
     "text": [
      "population =  [255755, 11943, 45837, 20081, 50976, 15034, 124098, 6193, 27469, 60580, 11154, 11629, 69967, 14003, 42391, 12769, 41848, 47472, 46987, 73085, 27576, 34273, 52431, 115541, 40069, 8878, 47557, 10957, 16577, 86905, 69442, 33151, 77350, 29600, 41487, 15840, 6239, 5925, 25482, 13488, 6472, 7992, 20252, 15205, 3685, 4527, 4810, 718633, 50384, 10536, 20640, 12191, 37492, 3647, 9446, 603403, 22119, 14182, 22683, 11561, 2922, 7527, 5642, 15029, 9423, 5636, 11572, 45048, 41259, 42416, 46562, 70990, 26446, 2475, 4151, 31848, 34506]\n"
     ]
    }
   ],
   "source": [
    "# read the text file \"OK.population\" and store in the list called population\n",
    "population = list()\n",
    "\n",
    "# open the text file for reading\n",
    "filepath = \"C:\\\\districting-data\\\\\"\n",
    "filename = \"OK.population\"\n",
    "file = open( filepath + filename ,\"r\")\n",
    "\n",
    "# while the current line is not empty, read in a new county population\n",
    "line = file.readline()\n",
    "\n",
    "while line != \"\":\n",
    "    # split the line into two \"words\": \n",
    "    #    word[0]: the county's number\n",
    "    #    word[1]: the county's population\n",
    "    words = line.split() \n",
    "    county_number = words[0]\n",
    "    county_population = int(words[1]) # cast the string as type int\n",
    "    \n",
    "    # append to population list\n",
    "    population.append(county_population)\n",
    "    \n",
    "    # read next line\n",
    "    line = file.readline() \n",
    "\n",
    "file.close()\n",
    "print(\"population = \",population)"
   ]
  },
  {
   "cell_type": "code",
   "execution_count": 2,
   "metadata": {},
   "outputs": [
    {
     "name": "stdout",
     "output_type": "stream",
     "text": [
      "The Oklahoma (county) graph has 77 nodes and 195 edges.\n",
      "The Oklahoma graph has nodes [0, 23, 30, 47, 76, 1, 5, 8, 33, 46, 61, 2, 10, 13, 15, 37, 42, 57, 66, 3, 25, 44, 74, 4, 17, 29, 49, 55, 9, 16, 6, 7, 22, 41, 54, 67, 40, 11, 53, 56, 45, 59, 62, 70, 48, 12, 21, 24, 28, 32, 51, 38, 52, 14, 18, 58, 71, 19, 34, 68, 20, 26, 39, 27, 35, 64, 69, 63, 31, 43, 75, 36, 60, 72, 65, 50, 73]\n",
      "The Oklahoma graph has edges [(0, 23), (0, 30), (0, 47), (0, 76), (23, 1), (23, 5), (23, 22), (23, 33), (23, 47), (23, 76), (30, 21), (30, 38), (30, 47), (30, 51), (30, 52), (30, 76), (47, 16), (47, 21), (76, 20), (76, 22), (76, 52), (1, 5), (1, 8), (1, 33), (1, 46), (1, 61), (5, 9), (5, 16), (5, 61), (8, 11), (8, 33), (8, 46), (8, 53), (8, 56), (33, 6), (33, 11), (33, 22), (33, 54), (46, 3), (46, 53), (46, 61), (46, 74), (61, 3), (61, 9), (61, 25), (61, 62), (2, 10), (2, 13), (2, 15), (2, 37), (2, 42), (2, 57), (2, 66), (10, 15), (10, 48), (10, 66), (13, 37), (13, 38), (13, 42), (13, 51), (13, 52), (15, 14), (15, 42), (15, 48), (15, 71), (37, 27), (37, 52), (37, 57), (42, 24), (42, 51), (42, 71), (57, 27), (57, 43), (57, 66), (57, 69), (66, 31), (66, 43), (66, 48), (3, 25), (3, 44), (3, 74), (25, 44), (25, 62), (44, 65), (44, 74), (74, 53), (74, 65), (4, 17), (4, 29), (4, 49), (4, 55), (17, 28), (17, 55), (17, 59), (17, 70), (29, 19), (29, 49), (29, 55), (29, 63), (29, 68), (49, 63), (55, 12), (55, 19), (55, 24), (55, 28), (9, 16), (9, 45), (9, 59), (9, 62), (9, 70), (16, 21), (16, 32), (16, 59), (6, 7), (6, 22), (6, 41), (6, 54), (6, 67), (7, 40), (7, 41), (7, 67), (22, 20), (22, 67), (41, 54), (41, 72), (54, 11), (54, 36), (54, 56), (54, 72), (67, 20), (67, 26), (67, 40), (40, 26), (40, 64), (11, 56), (53, 56), (56, 36), (56, 60), (45, 62), (45, 70), (59, 28), (59, 32), (59, 70), (48, 14), (48, 31), (12, 21), (12, 24), (12, 28), (12, 32), (12, 51), (21, 32), (21, 51), (24, 19), (24, 51), (24, 71), (28, 32), (51, 38), (38, 52), (52, 20), (52, 27), (52, 39), (14, 18), (14, 58), (14, 71), (18, 19), (18, 34), (18, 58), (18, 68), (18, 71), (58, 34), (71, 19), (19, 68), (34, 63), (34, 68), (34, 75), (68, 63), (20, 26), (20, 39), (26, 27), (26, 35), (26, 39), (26, 64), (39, 27), (27, 35), (27, 69), (35, 64), (35, 69), (69, 43), (63, 75), (31, 43), (36, 60), (36, 72), (60, 72), (65, 50), (50, 73)]\n"
     ]
    }
   ],
   "source": [
    "# Read the Oklahoma county graph. It is stored in the file \"OK.graph\", with edges listed like this:\n",
    "# 0 23 \n",
    "# 0 30 \n",
    "# 0 47 \n",
    "# 0 76 \n",
    "# 1 5 \n",
    "# 1 8 \n",
    "# 1 23 \n",
    "# 1 33 \n",
    "# ...\n",
    "\n",
    "# County-level graphs for all states can be found here:\n",
    "# https://github.com/AustinLBuchanan/county-level-districting/tree/master/data\n",
    "\n",
    "# NetworkX has a built-in function for reading this kind of file\n",
    "import networkx as nx\n",
    "filepath = 'C:\\\\districting-data\\\\'\n",
    "filename = 'OK.graph'\n",
    "G = nx.read_edgelist( filepath + filename, nodetype=int )\n",
    "\n",
    "print(\"The Oklahoma (county) graph has\",G.number_of_nodes(),\"nodes and\",G.number_of_edges(),\"edges.\")\n",
    "print(\"The Oklahoma graph has nodes\",G.nodes)\n",
    "print(\"The Oklahoma graph has edges\",G.edges)"
   ]
  },
  {
   "cell_type": "code",
   "execution_count": 3,
   "metadata": {},
   "outputs": [],
   "source": [
    "# We are to solve the following task:\n",
    "# input: a population vector, a graph G=(V,E), desired number of districts k, population lower and upper bounds L and U\n",
    "# output: a partition of the nodes into k districts (not necessarily connected!) \n",
    "#            each with population in [L,U] to minimize the number of \"cut edges\" \n",
    "#\n",
    "# An edge {i,j} from E is cut if its endpoints i and j are assigned to different districts.\n",
    "#\n",
    "# For example, consider the 4x4 grid graph: \n",
    "#\n",
    "#         & - & - & - &\n",
    "#         |   |   |   |\n",
    "#         & - & - & - &\n",
    "#         |   |   |   |\n",
    "#         & - & - & - &\n",
    "#         |   |   |   |\n",
    "#         & - & - & - &\n",
    "#\n",
    "# Here are two ways to split it into 4 equal-size districts:\n",
    "#\n",
    "#         &   &   &   &                & - &   & - &\n",
    "#         |   |   |   |                |   |   |   |\n",
    "#         &   &   &   &                & - &   & - &\n",
    "#         |   |   |   |                             \n",
    "#         &   &   &   &                & - &   & - &\n",
    "#         |   |   |   |                |   |   |   |\n",
    "#         &   &   &   &                & - &   & - &\n",
    "#\n",
    "#          12 cut edges                 8 cut edges\n",
    "#\n",
    "# The plan with 8 cut edges looks more compact.\n",
    "#\n",
    "\n",
    "import gurobipy as gp\n",
    "from gurobipy import GRB"
   ]
  },
  {
   "cell_type": "code",
   "execution_count": 4,
   "metadata": {},
   "outputs": [
    {
     "name": "stdout",
     "output_type": "stream",
     "text": [
      "Using L = 746519 and U = 754021 and k = 5\n"
     ]
    }
   ],
   "source": [
    "# Let's impose a 1% population deviation (+/- 0.5%)\n",
    "deviation = 0.01\n",
    "\n",
    "import math\n",
    "k = 5          # number of districts\n",
    "L = math.ceil((1-deviation/2)*sum(population)/k)\n",
    "U = math.floor((1+deviation/2)*sum(population)/k)\n",
    "print(\"Using L =\",L,\"and U =\",U,\"and k =\",k)"
   ]
  },
  {
   "cell_type": "code",
   "execution_count": 5,
   "metadata": {},
   "outputs": [
    {
     "name": "stdout",
     "output_type": "stream",
     "text": [
      "Academic license - for non-commercial use only - expires 2021-04-22\n",
      "Using license file C:\\Users\\buchanan\\gurobi.lic\n"
     ]
    }
   ],
   "source": [
    "# create model \n",
    "m = gp.Model()\n",
    "\n",
    "# create variables\n",
    "x = m.addVars(G.nodes, k, vtype=GRB.BINARY) # x[i,j] equals one when county i is assigned to district j\n",
    "y = m.addVars(G.edges, vtype=GRB.BINARY)  # y[u,v] equals one when edge {u,v} is cut"
   ]
  },
  {
   "cell_type": "code",
   "execution_count": 6,
   "metadata": {},
   "outputs": [],
   "source": [
    "# objective is to minimize cut edges\n",
    "m.setObjective( gp.quicksum( y[u,v] for u,v in G.edges ), GRB.MINIMIZE )"
   ]
  },
  {
   "cell_type": "code",
   "execution_count": 7,
   "metadata": {},
   "outputs": [],
   "source": [
    "# add constraints saying that each county i is assigned to one district\n",
    "m.addConstrs( gp.quicksum(x[i,j] for j in range(k)) == 1 for i in G.nodes)\n",
    "\n",
    "# add constraints saying that each district has population at least L and at most U\n",
    "m.addConstrs( gp.quicksum( population[i] * x[i,j] for i in G.nodes) >= L for j in range(k) )\n",
    "m.addConstrs( gp.quicksum( population[i] * x[i,j] for i in G.nodes) <= U for j in range(k) )\n",
    "\n",
    "# add constraints saying that edge {i,j} is cut if i is assigned to district v but j is not.\n",
    "m.addConstrs( x[i,v] - x[j,v] <= y[i,j] for i,j in G.edges for v in range(k))\n",
    "\n",
    "m.update()"
   ]
  },
  {
   "cell_type": "code",
   "execution_count": 8,
   "metadata": {},
   "outputs": [
    {
     "name": "stdout",
     "output_type": "stream",
     "text": [
      "Gurobi Optimizer version 9.1.1 build v9.1.1rc0 (win64)\n",
      "Thread count: 4 physical cores, 8 logical processors, using up to 8 threads\n",
      "Optimize a model with 1062 rows, 580 columns and 4080 nonzeros\n",
      "Model fingerprint: 0xea8b4b85\n",
      "Variable types: 0 continuous, 580 integer (580 binary)\n",
      "Coefficient statistics:\n",
      "  Matrix range     [1e+00, 7e+05]\n",
      "  Objective range  [1e+00, 1e+00]\n",
      "  Bounds range     [1e+00, 1e+00]\n",
      "  RHS range        [1e+00, 8e+05]\n",
      "Presolve time: 0.00s\n",
      "Presolved: 1062 rows, 580 columns, 4080 nonzeros\n",
      "Variable types: 0 continuous, 580 integer (580 binary)\n",
      "Found heuristic solution: objective 105.0000000\n",
      "Found heuristic solution: objective 96.0000000\n",
      "\n",
      "Root relaxation: objective 0.000000e+00, 623 iterations, 0.02 seconds\n",
      "\n",
      "    Nodes    |    Current Node    |     Objective Bounds      |     Work\n",
      " Expl Unexpl |  Obj  Depth IntInf | Incumbent    BestBd   Gap | It/Node Time\n",
      "\n",
      "     0     0    0.00000    0  385   96.00000    0.00000   100%     -    0s\n",
      "H    0     0                      93.0000000    0.86154  99.1%     -    0s\n",
      "     0     0    4.67795    0  396   93.00000    4.67795  95.0%     -    0s\n",
      "H    0     0                      86.0000000    4.67795  94.6%     -    0s\n",
      "H    0     0                      85.0000000    4.67795  94.5%     -    0s\n",
      "     0     0   15.04730    0  390   85.00000   15.04730  82.3%     -    0s\n",
      "     0     0   15.08566    0  390   85.00000   15.08566  82.3%     -    0s\n",
      "H    0     0                      72.0000000   15.08566  79.0%     -    0s\n",
      "     0     0   16.02932    0  450   72.00000   16.02932  77.7%     -    0s\n",
      "     0     0   16.24919    0  488   72.00000   16.24919  77.4%     -    0s\n",
      "     0     0   16.36948    0  490   72.00000   16.36948  77.3%     -    0s\n",
      "     0     0   16.38342    0  506   72.00000   16.38342  77.2%     -    0s\n",
      "     0     0   16.38698    0  500   72.00000   16.38698  77.2%     -    0s\n",
      "     0     0   16.87347    0  477   72.00000   16.87347  76.6%     -    1s\n",
      "     0     0   17.00957    0  518   72.00000   17.00957  76.4%     -    1s\n",
      "     0     0   17.02552    0  519   72.00000   17.02552  76.4%     -    1s\n",
      "H    0     0                      61.0000000   17.02552  72.1%     -    1s\n",
      "     0     0   17.05491    0  516   61.00000   17.05491  72.0%     -    1s\n",
      "     0     0   17.05841    0  518   61.00000   17.05841  72.0%     -    1s\n",
      "H    0     0                      60.0000000   17.05841  71.6%     -    1s\n",
      "H    0     0                      59.0000000   17.05841  71.1%     -    1s\n",
      "     0     0   17.14194    0  513   59.00000   17.14194  70.9%     -    1s\n",
      "     0     0   17.15222    0  512   59.00000   17.15222  70.9%     -    1s\n",
      "     0     0   17.22241    0  516   59.00000   17.22241  70.8%     -    1s\n",
      "     0     0   17.22241    0  516   59.00000   17.22241  70.8%     -    1s\n",
      "     0     2   17.22241    0  516   59.00000   17.22241  70.8%     -    1s\n",
      "   223   236   26.98238    6  486   59.00000   23.59809  60.0%   329    5s\n",
      "H  270   262                      56.0000000   23.59809  57.9%   288    5s\n",
      "H  299   229                      51.0000000   23.59809  53.7%   274    5s\n",
      "H  374   244                      50.0000000   23.59809  52.8%   276    6s\n",
      "H  397   237                      48.0000000   23.59809  50.8%   271    6s\n",
      "H  414   227                      47.0000000   23.94199  49.1%   272    6s\n",
      "H  576   280                      46.0000000   24.63244  46.5%   266    8s\n",
      "H  577   229                      41.0000000   24.63244  39.9%   266    8s\n",
      "   671   244     cutoff   21        41.00000   24.70229  39.8%   276   10s\n",
      "H  734   259                      39.0000000   25.48061  34.7%   283   11s\n",
      "   941   354   36.50274   22  354   39.00000   26.14679  33.0%   306   15s\n",
      "  1057   380   28.06041    7  484   39.00000   26.14679  33.0%   294   20s\n",
      "  1204   462   29.57754   24  383   39.00000   26.14679  33.0%   333   25s\n",
      "  1758   544   34.10177   24  425   39.00000   26.14679  33.0%   321   32s\n",
      "  2072   563   35.10127   27  222   39.00000   27.22430  30.2%   321   35s\n",
      "  2841   715   32.92117   21  411   39.00000   28.61219  26.6%   309   40s\n",
      "  3517   897     cutoff   25        39.00000   29.53152  24.3%   303   45s\n",
      "  4368  1014   37.50486   25  350   39.00000   30.37052  22.1%   292   50s\n",
      "  5069  1154     cutoff   30        39.00000   30.87746  20.8%   286   55s\n",
      "  6181  1259   36.32490   25  345   39.00000   31.36433  19.6%   277   60s\n",
      "  6911  1333   37.46892   27  368   39.00000   31.79347  18.5%   272   65s\n",
      "  7814  1366   37.80189   30  286   39.00000   32.23813  17.3%   266   70s\n",
      "  8861  1431   37.61985   27  428   39.00000   32.81224  15.9%   261   75s\n",
      "  9642  1471   37.91881   28  235   39.00000   33.14145  15.0%   257   80s\n",
      " 10789  1486     cutoff   29        39.00000   33.79773  13.3%   250   86s\n",
      " 11937  1483   36.37710   28  348   39.00000   34.27957  12.1%   244   91s\n",
      " 13262  1341   37.84181   33  314   39.00000   34.80927  10.7%   237   95s\n",
      " 14251  1182     cutoff   26        39.00000   35.27924  9.54%   232  101s\n",
      " 16180   634     cutoff   28        39.00000   36.02582  7.63%   222  107s\n",
      "\n",
      "Cutting planes:\n",
      "  Gomory: 9\n",
      "  Cover: 12\n",
      "  MIR: 3\n",
      "  StrongCG: 1\n",
      "  Flow cover: 21\n",
      "  RLT: 260\n",
      "\n",
      "Explored 18363 nodes (3851408 simplex iterations) in 109.29 seconds\n",
      "Thread count was 8 (of 8 available processors)\n",
      "\n",
      "Solution count 10: 39 41 46 ... 60\n",
      "\n",
      "Optimal solution found (tolerance 1.00e-04)\n",
      "Best objective 3.900000000000e+01, best bound 3.900000000000e+01, gap 0.0000%\n"
     ]
    }
   ],
   "source": [
    "# solve IP model\n",
    "m.optimize()"
   ]
  },
  {
   "cell_type": "code",
   "execution_count": 9,
   "metadata": {},
   "outputs": [
    {
     "name": "stdout",
     "output_type": "stream",
     "text": [
      "The number of cut edges is 39.0\n",
      "District 0 has population 753313 and contains counties [0, 30, 76, 6, 7, 22, 41, 67, 40, 52, 20, 26, 39, 35, 64]\n",
      "District 1 has population 747384 and contains counties [47, 65, 50, 73]\n",
      "District 2 has population 751820 and contains counties [4, 29, 49, 55]\n",
      "District 3 has population 751308 and contains counties [2, 10, 13, 15, 37, 42, 57, 66, 48, 24, 51, 38, 14, 18, 58, 71, 19, 34, 68, 27, 69, 63, 31, 43, 75]\n",
      "District 4 has population 747526 and contains counties [23, 1, 5, 8, 33, 46, 61, 3, 25, 44, 74, 17, 9, 16, 54, 11, 53, 56, 45, 59, 62, 70, 12, 21, 28, 32, 36, 60, 72]\n"
     ]
    }
   ],
   "source": [
    "# print the number of cut edges\n",
    "print(\"The number of cut edges is\",m.objval)\n",
    "\n",
    "# retrieve the districts and their populations\n",
    "districts = [ [i for i in G.nodes if x[i,j].x > 0.5] for j in range(k)]\n",
    "district_populations = [ sum(population[i] for i in district) for district in districts ]\n",
    "\n",
    "# print district info\n",
    "for j in range(k):\n",
    "    print(\"District\",j,\"has population\",district_populations[j],\"and contains counties\",districts[j])"
   ]
  },
  {
   "cell_type": "code",
   "execution_count": 10,
   "metadata": {},
   "outputs": [
    {
     "name": "stdout",
     "output_type": "stream",
     "text": [
      "Is district 0 connected? True\n",
      "Is district 1 connected? False\n",
      "Is district 2 connected? True\n",
      "Is district 3 connected? True\n",
      "Is district 4 connected? True\n"
     ]
    }
   ],
   "source": [
    "# check if the districts are connected\n",
    "for j in range(k):\n",
    "    print(\"Is district\",j,\"connected?\", nx.is_connected( G.subgraph( districts[j] ) ) )"
   ]
  },
  {
   "cell_type": "code",
   "execution_count": null,
   "metadata": {},
   "outputs": [],
   "source": []
  }
 ],
 "metadata": {
  "kernelspec": {
   "display_name": "Python 3",
   "language": "python",
   "name": "python3"
  },
  "language_info": {
   "codemirror_mode": {
    "name": "ipython",
    "version": 3
   },
   "file_extension": ".py",
   "mimetype": "text/x-python",
   "name": "python",
   "nbconvert_exporter": "python",
   "pygments_lexer": "ipython3",
   "version": "3.7.10"
  }
 },
 "nbformat": 4,
 "nbformat_minor": 4
}
