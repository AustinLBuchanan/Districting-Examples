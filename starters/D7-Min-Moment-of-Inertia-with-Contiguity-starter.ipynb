{
 "cells": [
  {
   "cell_type": "code",
   "execution_count": null,
   "metadata": {},
   "outputs": [],
   "source": [
    "from gerrychain import Graph"
   ]
  },
  {
   "cell_type": "code",
   "execution_count": null,
   "metadata": {},
   "outputs": [],
   "source": [
    "# Read Oklahoma county graph from the json file \"OK_county.json\"\n",
    "filepath = 'C:\\\\districting-data\\\\'\n",
    "filename = 'OK_county.json'\n",
    "\n",
    "# GerryChain has a built-in function for reading graphs of this type:\n",
    "G = Graph.from_json( filepath + filename )"
   ]
  },
  {
   "cell_type": "code",
   "execution_count": null,
   "metadata": {},
   "outputs": [],
   "source": [
    "# For each node, print the node #, county name, and its population\n",
    "for node in G.nodes:\n",
    "    name = G.nodes[node][\"NAME10\"]\n",
    "    population = G.nodes[node]['TOTPOP']\n",
    "    x_coordinate = G.nodes[node]['C_X']\n",
    "    y_coordinate = G.nodes[node]['C_Y']\n",
    "    print(\"Node\",node,\"is\",name,\"County, which has population\",population,\"and is centered at (\",x_coordinate,\",\",y_coordinate,\")\")"
   ]
  },
  {
   "cell_type": "code",
   "execution_count": null,
   "metadata": {},
   "outputs": [],
   "source": [
    "# pip install geopy"
   ]
  },
  {
   "cell_type": "code",
   "execution_count": null,
   "metadata": {},
   "outputs": [],
   "source": [
    "# what is the \"distance\" between Payne County (node 0), Oklahoma County (node 15), and Tulsa County (node 23)?\n",
    "from geopy.distance import geodesic\n",
    "\n",
    "# Store centroid location as ( long, lat )\n",
    "Payne = ( G.nodes[0]['C_Y'],  G.nodes[0]['C_X'] )\n",
    "Oklahoma = ( G.nodes[15]['C_Y'], G.nodes[15]['C_X'] )\n",
    "Tulsa = ( G.nodes[23]['C_Y'], G.nodes[23]['C_X'] )\n",
    "\n",
    "# Print the distance in miles\n",
    "print(\"Payne -> Oklahoma:\",geodesic(Payne, Oklahoma).miles)\n",
    "print(\"Oklahoma -> Tulsa:\",geodesic(Oklahoma, Tulsa).miles)\n",
    "print(\"Tulsa -> Payne:\",geodesic(Tulsa, Payne).miles)"
   ]
  },
  {
   "cell_type": "code",
   "execution_count": null,
   "metadata": {},
   "outputs": [],
   "source": [
    "# create distance dictionary\n",
    "dist = dict()\n",
    "for i in G.nodes:\n",
    "    for j in G.nodes:\n",
    "        loc_i = ( G.nodes[i]['C_Y'],  G.nodes[i]['C_X'] )\n",
    "        loc_j = ( G.nodes[j]['C_Y'],  G.nodes[j]['C_X'] )\n",
    "        dist[i,j] = geodesic(loc_i,loc_j).miles"
   ]
  },
  {
   "cell_type": "code",
   "execution_count": null,
   "metadata": {},
   "outputs": [],
   "source": [
    "# check the dictionary by printing the Payne County -> Oklahoma County distance\n",
    "print(\"Payne -> Oklahoma:\",dist[0,15])"
   ]
  },
  {
   "cell_type": "code",
   "execution_count": null,
   "metadata": {},
   "outputs": [],
   "source": [
    "# Let's impose a 1% population deviation (+/- 0.5%)\n",
    "deviation = 0.01\n",
    "\n",
    "import math\n",
    "k = 5          # number of districts\n",
    "total_population = sum(G.nodes[node]['TOTPOP'] for node in G.nodes)\n",
    "\n",
    "L = math.ceil((1-deviation/2)*total_population/k)\n",
    "U = math.floor((1+deviation/2)*total_population/k)\n",
    "print(\"Using L =\",L,\"and U =\",U,\"and k =\",k)"
   ]
  },
  {
   "cell_type": "code",
   "execution_count": null,
   "metadata": {},
   "outputs": [],
   "source": [
    "import gurobipy as gp\n",
    "from gurobipy import GRB\n",
    "\n",
    "# create model \n",
    "m = gp.Model()\n",
    "\n",
    "# create x[i,j] variable which equals one when county i \n",
    "#    is assigned to (the district centered at) county j\n",
    "x = m.addVars(G.nodes, G.nodes, vtype=GRB.BINARY) "
   ]
  },
  {
   "cell_type": "code",
   "execution_count": null,
   "metadata": {},
   "outputs": [],
   "source": [
    "# objective is to minimize the moment of inertia: d^2 * p * x\n",
    "m.setObjective( gp.quicksum( dist[i,j]*dist[i,j]*G.nodes[i]['TOTPOP']*x[i,j] for i in G.nodes for j in G.nodes), GRB.MINIMIZE )"
   ]
  },
  {
   "cell_type": "code",
   "execution_count": null,
   "metadata": {},
   "outputs": [],
   "source": [
    "# add constraints saying that each county i is assigned to one district\n",
    "m.addConstrs( gp.quicksum(x[i,j] for j in G.nodes) == 1 for i in G.nodes)\n",
    "\n",
    "# add constraint saying there should be k district centers\n",
    "m.addConstr( gp.quicksum( x[j,j] for j in G.nodes ) == k )\n",
    "\n",
    "# add constraints that say: if j roots a district, then its population is between L and U.\n",
    "m.addConstrs( gp.quicksum( G.nodes[i]['TOTPOP'] * x[i,j] for i in G.nodes) >= L * x[j,j] for j in G.nodes )\n",
    "m.addConstrs( gp.quicksum( G.nodes[i]['TOTPOP'] * x[i,j] for i in G.nodes) <= U * x[j,j] for j in G.nodes )\n",
    "\n",
    "# add coupling constraints saying that if i is assigned to j, then j is a center.\n",
    "m.addConstrs( x[i,j] <= x[j,j] for i in G.nodes for j in G.nodes )\n",
    "\n",
    "m.update()"
   ]
  },
  {
   "cell_type": "code",
   "execution_count": null,
   "metadata": {},
   "outputs": [],
   "source": [
    "# Add contiguity constraints\n",
    "\n",
    "\n",
    "# Add variable f[j,u,v] which equals the amount of flow (originally from j) that is sent across arc (u,v)\n",
    "\n",
    "\n",
    "# Add constraint saying that node j cannot receive flow of its own type\n",
    "\n",
    "\n",
    "# Add constraints saying that node i can receive flow of type j only if i is assigned to j\n",
    "\n",
    "\n",
    "# If i is assigned to j, then i should consume one unit of j flow. \n",
    "#    Otherwise, i should consume no units of j flow.\n",
    "\n",
    "\n"
   ]
  },
  {
   "cell_type": "code",
   "execution_count": null,
   "metadata": {},
   "outputs": [],
   "source": [
    "# solve, making sure to set a 0.00% MIP gap tolerance(!)\n",
    "m.Params.MIPGap = 0.0\n",
    "m.optimize()"
   ]
  },
  {
   "cell_type": "code",
   "execution_count": null,
   "metadata": {},
   "outputs": [],
   "source": [
    "print(\"The moment of inertia objective is\",m.objval)\n",
    "\n",
    "# retrieve the districts and their populations\n",
    "centers = [j for j in G.nodes if x[j,j].x > 0.5 ]\n",
    "districts = [ [i for i in G.nodes if x[i,j].x > 0.5] for j in centers]\n",
    "district_counties = [ [ G.nodes[i][\"NAME10\"] for i in districts[j] ] for j in range(k)]\n",
    "district_populations = [ sum(G.nodes[i][\"TOTPOP\"] for i in districts[j]) for j in range(k) ]\n",
    "\n",
    "# print district info\n",
    "for j in range(k):\n",
    "    print(\"District\",j,\"has population\",district_populations[j],\"and contains counties\",district_counties[j])"
   ]
  },
  {
   "cell_type": "code",
   "execution_count": null,
   "metadata": {},
   "outputs": [],
   "source": [
    "# Let's draw it on a map\n",
    "import geopandas as gpd"
   ]
  },
  {
   "cell_type": "code",
   "execution_count": null,
   "metadata": {},
   "outputs": [],
   "source": [
    "# Read Oklahoma county shapefile from \"OK_county.shp\"\n",
    "filepath = 'C:\\\\districting-data\\\\'\n",
    "filename = 'OK_county.shp'\n",
    "\n",
    "# Read geopandas dataframe from file\n",
    "df = gpd.read_file( filepath + filename )"
   ]
  },
  {
   "cell_type": "code",
   "execution_count": null,
   "metadata": {},
   "outputs": [],
   "source": [
    "# Which district is each county assigned to?\n",
    "assignment = [ -1 for u in G.nodes ]\n",
    "    \n",
    "# for each district j\n",
    "for j in range(len(districts)):\n",
    "    \n",
    "    # for each node i in this district\n",
    "    for i in districts[j]:\n",
    "        \n",
    "        # What is its GEOID?\n",
    "        geoID = G.nodes[i][\"GEOID10\"]\n",
    "        \n",
    "        # Need to find this GEOID in the dataframe\n",
    "        for u in G.nodes:\n",
    "            if geoID == df['GEOID10'][u]: # Found it\n",
    "                assignment[u] = j # Node u from the dataframe should be assigned to district j\n",
    "\n",
    "# Now add the assignments to a column of the dataframe and map it\n",
    "df['assignment'] = assignment\n",
    "my_fig = df.plot(column='assignment').get_figure()"
   ]
  },
  {
   "cell_type": "code",
   "execution_count": null,
   "metadata": {},
   "outputs": [],
   "source": []
  }
 ],
 "metadata": {
  "kernelspec": {
   "display_name": "Python 3",
   "language": "python",
   "name": "python3"
  },
  "language_info": {
   "codemirror_mode": {
    "name": "ipython",
    "version": 3
   },
   "file_extension": ".py",
   "mimetype": "text/x-python",
   "name": "python",
   "nbconvert_exporter": "python",
   "pygments_lexer": "ipython3",
   "version": "3.7.10"
  }
 },
 "nbformat": 4,
 "nbformat_minor": 4
}
