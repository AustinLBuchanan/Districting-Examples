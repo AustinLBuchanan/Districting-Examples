{
 "cells": [
  {
   "cell_type": "code",
   "execution_count": null,
   "metadata": {},
   "outputs": [],
   "source": [
    "# read the text file \"OK.population\" and store in the list called population\n",
    "population = list()\n",
    "\n",
    "# open the text file for reading\n",
    "filepath = \"C:\\\\districting-data\\\\\"\n",
    "filename = \"OK.population\"\n",
    "file = open( filepath + filename ,\"r\")\n",
    "\n",
    "# while the current line is not empty, read in a new county population\n",
    "line = file.readline()\n",
    "\n",
    "while line != \"\":\n",
    "    # split the line into two \"words\": \n",
    "    #    word[0]: the county's number\n",
    "    #    word[1]: the county's population\n",
    "    words = line.split() \n",
    "    county_number = words[0]\n",
    "    county_population = int(words[1]) # cast the string as type int\n",
    "    \n",
    "    # append to population list\n",
    "    population.append(county_population)\n",
    "    \n",
    "    # read next line\n",
    "    line = file.readline() \n",
    "\n",
    "file.close()\n",
    "print(\"population = \",population)"
   ]
  },
  {
   "cell_type": "code",
   "execution_count": null,
   "metadata": {},
   "outputs": [],
   "source": [
    "# Read the Oklahoma county graph. It is stored in the file \"OK.graph\", with edges listed like this:\n",
    "# 0 23 \n",
    "# 0 30 \n",
    "# 0 47 \n",
    "# 0 76 \n",
    "# 1 5 \n",
    "# 1 8 \n",
    "# 1 23 \n",
    "# 1 33 \n",
    "# ...\n",
    "\n",
    "# County-level graphs for all states can be found here:\n",
    "# https://github.com/AustinLBuchanan/county-level-districting/tree/master/data\n",
    "\n",
    "# NetworkX has a built-in function for reading this kind of file\n",
    "import networkx as nx\n",
    "filepath = 'C:\\\\districting-data\\\\'\n",
    "filename = 'OK.graph'\n",
    "G = nx.read_edgelist( filepath + filename, nodetype=int )\n",
    "\n",
    "print(\"The Oklahoma (county) graph has\",G.number_of_nodes(),\"nodes and\",G.number_of_edges(),\"edges.\")\n",
    "print(\"The Oklahoma graph has nodes\",G.nodes)\n",
    "print(\"The Oklahoma graph has edges\",G.edges)"
   ]
  },
  {
   "cell_type": "code",
   "execution_count": null,
   "metadata": {},
   "outputs": [],
   "source": [
    "# We are to solve the following task:\n",
    "# input: a population vector, a graph G=(V,E), desired number of districts k, population lower and upper bounds L and U\n",
    "# output: a partition of the nodes into k districts (not necessarily connected!) \n",
    "#            each with population in [L,U] to minimize the number of \"cut edges\" \n",
    "#\n",
    "# An edge {i,j} from E is cut if its endpoints i and j are assigned to different districts.\n",
    "#\n",
    "# For example, consider the 4x4 grid graph: \n",
    "#\n",
    "#         & - & - & - &\n",
    "#         |   |   |   |\n",
    "#         & - & - & - &\n",
    "#         |   |   |   |\n",
    "#         & - & - & - &\n",
    "#         |   |   |   |\n",
    "#         & - & - & - &\n",
    "#\n",
    "# Here are two ways to split it into 4 equal-size districts:\n",
    "#\n",
    "#         &   &   &   &                & - &   & - &\n",
    "#         |   |   |   |                |   |   |   |\n",
    "#         &   &   &   &                & - &   & - &\n",
    "#         |   |   |   |                             \n",
    "#         &   &   &   &                & - &   & - &\n",
    "#         |   |   |   |                |   |   |   |\n",
    "#         &   &   &   &                & - &   & - &\n",
    "#\n",
    "#          12 cut edges                 8 cut edges\n",
    "#\n",
    "# The plan with 8 cut edges looks more compact.\n",
    "#\n",
    "\n",
    "import gurobipy as gp\n",
    "from gurobipy import GRB"
   ]
  },
  {
   "cell_type": "code",
   "execution_count": null,
   "metadata": {},
   "outputs": [],
   "source": [
    "# Let's impose a 1% population deviation (+/- 0.5%)\n",
    "\n"
   ]
  },
  {
   "cell_type": "code",
   "execution_count": null,
   "metadata": {},
   "outputs": [],
   "source": [
    "# create model \n",
    "\n"
   ]
  },
  {
   "cell_type": "code",
   "execution_count": null,
   "metadata": {},
   "outputs": [],
   "source": [
    "# objective is to minimize cut edges\n",
    "\n"
   ]
  },
  {
   "cell_type": "code",
   "execution_count": null,
   "metadata": {},
   "outputs": [],
   "source": [
    "# add constraints saying that each county i is assigned to one district\n",
    "\n"
   ]
  },
  {
   "cell_type": "code",
   "execution_count": null,
   "metadata": {},
   "outputs": [],
   "source": [
    "# solve IP model\n",
    "\n"
   ]
  },
  {
   "cell_type": "code",
   "execution_count": null,
   "metadata": {},
   "outputs": [],
   "source": [
    "# print the number of cut edges\n",
    "\n",
    "\n",
    "# retrieve the districts and their populations\n",
    "\n",
    "\n",
    "# print district info\n"
   ]
  },
  {
   "cell_type": "code",
   "execution_count": null,
   "metadata": {},
   "outputs": [],
   "source": [
    "# check if the districts are connected\n",
    "\n"
   ]
  },
  {
   "cell_type": "code",
   "execution_count": null,
   "metadata": {},
   "outputs": [],
   "source": []
  }
 ],
 "metadata": {
  "kernelspec": {
   "display_name": "Python 3",
   "language": "python",
   "name": "python3"
  },
  "language_info": {
   "codemirror_mode": {
    "name": "ipython",
    "version": 3
   },
   "file_extension": ".py",
   "mimetype": "text/x-python",
   "name": "python",
   "nbconvert_exporter": "python",
   "pygments_lexer": "ipython3",
   "version": "3.7.10"
  }
 },
 "nbformat": 4,
 "nbformat_minor": 4
}
