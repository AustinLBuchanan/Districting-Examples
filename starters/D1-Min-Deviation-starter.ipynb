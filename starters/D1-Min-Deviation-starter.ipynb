{
 "cells": [
  {
   "cell_type": "code",
   "execution_count": null,
   "metadata": {},
   "outputs": [],
   "source": [
    "# read the text file \"OK.population\" and store in the list called population\n",
    "population = list()\n",
    "\n",
    "# open the text file for reading\n",
    "filepath = \"C:\\\\districting-data\\\\\"\n",
    "filename = \"OK.population\"\n",
    "file = open( filepath + filename ,\"r\")\n",
    "\n",
    "# while the current line is not empty, read in a new county population\n",
    "line = file.readline()\n",
    "\n",
    "while line != \"\":\n",
    "    # split the line into two \"words\": \n",
    "    #    word[0]: the county's number\n",
    "    #    word[1]: the county's population\n",
    "    words = line.split() \n",
    "    county_number = words[0]\n",
    "    county_population = int(words[1]) # cast the string as type int\n",
    "    \n",
    "    # append to population list\n",
    "    population.append(county_population)\n",
    "    \n",
    "    # read next line\n",
    "    line = file.readline() \n",
    "\n",
    "file.close()\n",
    "print(\"population = \",population)"
   ]
  },
  {
   "cell_type": "code",
   "execution_count": null,
   "metadata": {},
   "outputs": [],
   "source": [
    "# we are to solve the following task:\n",
    "# input: a population vector, desired number of districts k\n",
    "# output: a partition of the populations into k districts (not necessarily connected!) \n",
    "#            to minimize the difference between most and least populated districts\n",
    "\n"
   ]
  },
  {
   "cell_type": "code",
   "execution_count": null,
   "metadata": {},
   "outputs": [],
   "source": [
    "\n",
    "\n",
    "# create model \n",
    "\n",
    "\n",
    "# create variables\n"
   ]
  },
  {
   "cell_type": "code",
   "execution_count": null,
   "metadata": {},
   "outputs": [],
   "source": [
    "# objective is to minimize absolute population deviation\n",
    "\n",
    "\n",
    "# add constraints saying that each county i is assigned to one district\n",
    "\n",
    "\n",
    "# add constraints saying that each district has population at least y\n",
    "\n",
    "\n",
    "# add constraints saying that each district has population at most z\n"
   ]
  },
  {
   "cell_type": "code",
   "execution_count": null,
   "metadata": {},
   "outputs": [],
   "source": [
    "# solve IP model\n"
   ]
  },
  {
   "cell_type": "code",
   "execution_count": null,
   "metadata": {},
   "outputs": [],
   "source": [
    "# print the absolute population deviation\n",
    "\n",
    "\n",
    "# retrieve the districts and their populations\n",
    "\n",
    "\n",
    "# print district info\n"
   ]
  },
  {
   "cell_type": "code",
   "execution_count": null,
   "metadata": {},
   "outputs": [],
   "source": []
  }
 ],
 "metadata": {
  "kernelspec": {
   "display_name": "Python 3",
   "language": "python",
   "name": "python3"
  },
  "language_info": {
   "codemirror_mode": {
    "name": "ipython",
    "version": 3
   },
   "file_extension": ".py",
   "mimetype": "text/x-python",
   "name": "python",
   "nbconvert_exporter": "python",
   "pygments_lexer": "ipython3",
   "version": "3.7.10"
  }
 },
 "nbformat": 4,
 "nbformat_minor": 4
}
