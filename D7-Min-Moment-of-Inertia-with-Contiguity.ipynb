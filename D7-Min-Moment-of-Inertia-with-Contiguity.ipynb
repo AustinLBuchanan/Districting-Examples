{
 "cells": [
  {
   "cell_type": "code",
   "execution_count": 1,
   "metadata": {},
   "outputs": [],
   "source": [
    "from gerrychain import Graph"
   ]
  },
  {
   "cell_type": "code",
   "execution_count": 2,
   "metadata": {},
   "outputs": [],
   "source": [
    "# Read Oklahoma county graph from the json file \"OK_county.json\"\n",
    "filepath = 'C:\\\\districting-data\\\\'\n",
    "filename = 'OK_county.json'\n",
    "\n",
    "# GerryChain has a built-in function for reading graphs of this type:\n",
    "G = Graph.from_json( filepath + filename )"
   ]
  },
  {
   "cell_type": "code",
   "execution_count": 3,
   "metadata": {},
   "outputs": [
    {
     "name": "stdout",
     "output_type": "stream",
     "text": [
      "Node 0 is Payne County, which has population 77350 and is centered at ( -96.97576957219881 , 36.077314347648766 )\n",
      "Node 1 is Caddo County, which has population 29600 and is centered at ( -98.3751473673756 , 35.17437980539709 )\n",
      "Node 2 is Delaware County, which has population 41487 and is centered at ( -94.80265082077914 , 36.40819871769282 )\n",
      "Node 3 is Marshall County, which has population 15840 and is centered at ( -96.76913170667204 , 34.02448993509658 )\n",
      "Node 4 is Greer County, which has population 6239 and is centered at ( -99.56080209644304 , 34.935704806492105 )\n",
      "Node 5 is Coal County, which has population 5925 and is centered at ( -96.29785664485043 , 34.58819267124212 )\n",
      "Node 6 is Seminole County, which has population 25482 and is centered at ( -96.61551788874691 , 35.167486064110506 )\n",
      "Node 7 is Murray County, which has population 13488 and is centered at ( -97.06792003908163 , 34.48232870884322 )\n",
      "Node 8 is Jefferson County, which has population 6472 and is centered at ( -97.83585114471705 , 34.111007897643645 )\n",
      "Node 9 is Tillman County, which has population 7992 and is centered at ( -98.92424291609962 , 34.372853614338254 )\n",
      "Node 10 is McIntosh County, which has population 20252 and is centered at ( -95.66683806071951 , 35.37366457360746 )\n",
      "Node 11 is Choctaw County, which has population 15205 and is centered at ( -95.55213833460787 , 34.02661609159389 )\n",
      "Node 12 is Harper County, which has population 3685 and is centered at ( -99.6673615437473 , 36.788725138463676 )\n",
      "Node 13 is Grant County, which has population 4527 and is centered at ( -97.78615585669098 , 36.79614359262684 )\n",
      "Node 14 is Dewey County, which has population 4810 and is centered at ( -99.00789185583449 , 35.98765996140438 )\n",
      "Node 15 is Oklahoma County, which has population 718633 and is centered at ( -97.40720295347691 , 35.551522864559026 )\n",
      "Node 16 is Le Flore County, which has population 50384 and is centered at ( -94.70339120009747 , 34.900298392741774 )\n",
      "Node 17 is Nowata County, which has population 10536 and is centered at ( -95.61739921740495 , 36.79848105161579 )\n",
      "Node 18 is Texas County, which has population 20640 and is centered at ( -101.49001741989477 , 36.747908663342166 )\n",
      "Node 19 is Okfuskee County, which has population 12191 and is centered at ( -96.32280312067334 , 35.46545782011896 )\n",
      "Node 20 is Pontotoc County, which has population 37492 and is centered at ( -96.68443857265717 , 34.728000176651854 )\n",
      "Node 21 is Roger Mills County, which has population 3647 and is centered at ( -99.6956925318844 , 35.688386778751685 )\n",
      "Node 22 is Kiowa County, which has population 9446 and is centered at ( -98.98087029017069 , 34.91636754664025 )\n",
      "Node 23 is Tulsa County, which has population 603403 and is centered at ( -95.94148263163453 , 36.121079721378266 )\n",
      "Node 24 is Beckham County, which has population 22119 and is centered at ( -99.68192121711293 , 35.268708372566785 )\n",
      "Node 25 is Atoka County, which has population 14182 and is centered at ( -96.03782592552203 , 34.37371996024334 )\n",
      "Node 26 is Adair County, which has population 22683 and is centered at ( -94.65867921276559 , 35.88392785919908 )\n",
      "Node 27 is Noble County, which has population 11561 and is centered at ( -97.23051159756999 , 36.38859479209659 )\n",
      "Node 28 is Harmon County, which has population 2922 and is centered at ( -99.84627767472448 , 34.744118302171955 )\n",
      "Node 29 is Major County, which has population 7527 and is centered at ( -98.53595295579964 , 36.311643671566706 )\n",
      "Node 30 is Alfalfa County, which has population 5642 and is centered at ( -98.32400150610869 , 36.73097717557848 )\n",
      "Node 31 is Craig County, which has population 15029 and is centered at ( -95.20849712265421 , 36.761761457473156 )\n",
      "Node 32 is Love County, which has population 9423 and is centered at ( -97.24417948768567 , 33.949864023450274 )\n",
      "Node 33 is Beaver County, which has population 5636 and is centered at ( -100.4767729078565 , 36.749689810477115 )\n",
      "Node 34 is Pushmataha County, which has population 11572 and is centered at ( -95.37579413871941 , 34.41620203269056 )\n",
      "Node 35 is Stephens County, which has population 45048 and is centered at ( -97.85148428615075 , 34.485592625952684 )\n",
      "Node 36 is Mayes County, which has population 41259 and is centered at ( -95.23084586894048 , 36.30187813811267 )\n",
      "Node 37 is Bryan County, which has population 42416 and is centered at ( -96.25974768373321 , 33.962298832597575 )\n",
      "Node 38 is Kay County, which has population 46562 and is centered at ( -97.14392298941007 , 36.81800672394644 )\n",
      "Node 39 is Muskogee County, which has population 70990 and is centered at ( -95.3795271662559 , 35.61613049517331 )\n",
      "Node 40 is Jackson County, which has population 26446 and is centered at ( -99.41475743640707 , 34.587971484318864 )\n",
      "Node 41 is Cimarron County, which has population 2475 and is centered at ( -102.51770673112875 , 36.74830746974358 )\n",
      "Node 42 is Ellis County, which has population 4151 and is centered at ( -99.75459584759494 , 36.218362215797626 )\n",
      "Node 43 is Ottawa County, which has population 31848 and is centered at ( -94.81044389423438 , 36.835506111916374 )\n",
      "Node 44 is McClain County, which has population 34506 and is centered at ( -97.44430203917398 , 35.00933611638771 )\n",
      "Node 45 is Grady County, which has population 52431 and is centered at ( -97.8841092543813 , 35.016940448598554 )\n",
      "Node 46 is Blaine County, which has population 11943 and is centered at ( -98.43345747223115 , 35.875251458950224 )\n",
      "Node 47 is Pittsburg County, which has population 45837 and is centered at ( -95.74839929050607 , 34.923913355824546 )\n",
      "Node 48 is Woodward County, which has population 20081 and is centered at ( -99.2649706524249 , 36.42267311118643 )\n",
      "Node 49 is Washington County, which has population 50976 and is centered at ( -95.90436981220536 , 36.715236571331644 )\n",
      "Node 50 is Kingfisher County, which has population 15034 and is centered at ( -97.94210844970362 , 35.945391067787774 )\n",
      "Node 51 is Comanche County, which has population 124098 and is centered at ( -98.47166105427874 , 34.66210129162376 )\n",
      "Node 52 is Cotton County, which has population 6193 and is centered at ( -98.37223045667398 , 34.29023789693492 )\n",
      "Node 53 is Custer County, which has population 27469 and is centered at ( -99.00150066914581 , 35.63886242563585 )\n",
      "Node 54 is Garfield County, which has population 60580 and is centered at ( -97.7827232561481 , 36.37905871094122 )\n",
      "Node 55 is Latimer County, which has population 11154 and is centered at ( -95.25041579770448 , 34.87605735437865 )\n",
      "Node 56 is Washita County, which has population 11629 and is centered at ( -98.99223098008653 , 35.290380584677635 )\n",
      "Node 57 is Creek County, which has population 69967 and is centered at ( -96.37094141694399 , 35.902678302354246 )\n",
      "Node 58 is Hughes County, which has population 14003 and is centered at ( -96.25024292344114 , 35.048339383277046 )\n",
      "Node 59 is Sequoyah County, which has population 42391 and is centered at ( -94.75523787809314 , 35.49535141649236 )\n",
      "Node 60 is Haskell County, which has population 12769 and is centered at ( -95.11660349233087 , 35.224821855393316 )\n",
      "Node 61 is Logan County, which has population 41848 and is centered at ( -97.44332186007956 , 35.91934205715759 )\n",
      "Node 62 is Osage County, which has population 47472 and is centered at ( -96.39848801914839 , 36.62919001525104 )\n",
      "Node 63 is Cherokee County, which has population 46987 and is centered at ( -94.99966440737279 , 35.90662584338362 )\n",
      "Node 64 is Wagoner County, which has population 73085 and is centered at ( -95.52118427123689 , 35.961094678640386 )\n",
      "Node 65 is Garvin County, which has population 27576 and is centered at ( -97.30932341391363 , 34.70457257635578 )\n",
      "Node 66 is Lincoln County, which has population 34273 and is centered at ( -96.88091592878496 , 35.70299766377873 )\n",
      "Node 67 is Cleveland County, which has population 255755 and is centered at ( -97.3264068739708 , 35.2030213635675 )\n",
      "Node 68 is Canadian County, which has population 115541 and is centered at ( -97.98238325928104 , 35.54244423771495 )\n",
      "Node 69 is Okmulgee County, which has population 40069 and is centered at ( -95.96430816497097 , 35.64666486482838 )\n",
      "Node 70 is Woods County, which has population 8878 and is centered at ( -98.8651186298349 , 36.766936853015146 )\n",
      "Node 71 is Carter County, which has population 47557 and is centered at ( -97.28578728176156 , 34.25086400526413 )\n",
      "Node 72 is Johnston County, which has population 10957 and is centered at ( -96.66066439641517 , 34.31649344855852 )\n",
      "Node 73 is Pawnee County, which has population 16577 and is centered at ( -96.69929748615807 , 36.316927944462314 )\n",
      "Node 74 is Rogers County, which has population 86905 and is centered at ( -95.60436106795132 , 36.3715709930768 )\n",
      "Node 75 is Pottawatomie County, which has population 69442 and is centered at ( -96.94830094780724 , 35.20672128297297 )\n",
      "Node 76 is McCurtain County, which has population 33151 and is centered at ( -94.77133235807425 , 34.11529470433922 )\n"
     ]
    }
   ],
   "source": [
    "# For each node, print the node #, county name, and its population\n",
    "for node in G.nodes:\n",
    "    name = G.nodes[node][\"NAME10\"]\n",
    "    population = G.nodes[node]['TOTPOP']\n",
    "    x_coordinate = G.nodes[node]['C_X']\n",
    "    y_coordinate = G.nodes[node]['C_Y']\n",
    "    print(\"Node\",node,\"is\",name,\"County, which has population\",population,\"and is centered at (\",x_coordinate,\",\",y_coordinate,\")\")"
   ]
  },
  {
   "cell_type": "code",
   "execution_count": 4,
   "metadata": {},
   "outputs": [],
   "source": [
    "# pip install geopy"
   ]
  },
  {
   "cell_type": "code",
   "execution_count": 5,
   "metadata": {},
   "outputs": [
    {
     "name": "stdout",
     "output_type": "stream",
     "text": [
      "Payne -> Oklahoma: 43.60117970160248\n",
      "Oklahoma -> Tulsa: 91.17444501284626\n",
      "Tulsa -> Payne: 57.9517301598394\n"
     ]
    }
   ],
   "source": [
    "# what is the \"distance\" between Payne County (node 0), Oklahoma County (node 15), and Tulsa County (node 23)?\n",
    "from geopy.distance import geodesic\n",
    "\n",
    "# Store centroid location as ( long, lat )\n",
    "Payne = ( G.nodes[0]['C_Y'],  G.nodes[0]['C_X'] )\n",
    "Oklahoma = ( G.nodes[15]['C_Y'], G.nodes[15]['C_X'] )\n",
    "Tulsa = ( G.nodes[23]['C_Y'], G.nodes[23]['C_X'] )\n",
    "\n",
    "# Print the distance in miles\n",
    "print(\"Payne -> Oklahoma:\",geodesic(Payne, Oklahoma).miles)\n",
    "print(\"Oklahoma -> Tulsa:\",geodesic(Oklahoma, Tulsa).miles)\n",
    "print(\"Tulsa -> Payne:\",geodesic(Tulsa, Payne).miles)"
   ]
  },
  {
   "cell_type": "code",
   "execution_count": 6,
   "metadata": {},
   "outputs": [],
   "source": [
    "# create distance dictionary\n",
    "dist = dict()\n",
    "for i in G.nodes:\n",
    "    for j in G.nodes:\n",
    "        loc_i = ( G.nodes[i]['C_Y'],  G.nodes[i]['C_X'] )\n",
    "        loc_j = ( G.nodes[j]['C_Y'],  G.nodes[j]['C_X'] )\n",
    "        dist[i,j] = geodesic(loc_i,loc_j).miles"
   ]
  },
  {
   "cell_type": "code",
   "execution_count": 7,
   "metadata": {},
   "outputs": [
    {
     "name": "stdout",
     "output_type": "stream",
     "text": [
      "Payne -> Oklahoma: 43.60117970160248\n"
     ]
    }
   ],
   "source": [
    "# check the dictionary by printing the Payne County -> Oklahoma County distance\n",
    "print(\"Payne -> Oklahoma:\",dist[0,15])"
   ]
  },
  {
   "cell_type": "code",
   "execution_count": 8,
   "metadata": {},
   "outputs": [
    {
     "name": "stdout",
     "output_type": "stream",
     "text": [
      "Using L = 746519 and U = 754021 and k = 5\n"
     ]
    }
   ],
   "source": [
    "# Let's impose a 1% population deviation (+/- 0.5%)\n",
    "deviation = 0.01\n",
    "\n",
    "import math\n",
    "k = 5          # number of districts\n",
    "total_population = sum(G.nodes[node]['TOTPOP'] for node in G.nodes)\n",
    "\n",
    "L = math.ceil((1-deviation/2)*total_population/k)\n",
    "U = math.floor((1+deviation/2)*total_population/k)\n",
    "print(\"Using L =\",L,\"and U =\",U,\"and k =\",k)"
   ]
  },
  {
   "cell_type": "code",
   "execution_count": 9,
   "metadata": {},
   "outputs": [
    {
     "name": "stdout",
     "output_type": "stream",
     "text": [
      "Academic license - for non-commercial use only - expires 2021-04-22\n",
      "Using license file C:\\Users\\buchanan\\gurobi.lic\n"
     ]
    }
   ],
   "source": [
    "import gurobipy as gp\n",
    "from gurobipy import GRB\n",
    "\n",
    "# create model \n",
    "m = gp.Model()\n",
    "\n",
    "# create x[i,j] variable which equals one when county i \n",
    "#    is assigned to (the district centered at) county j\n",
    "x = m.addVars(G.nodes, G.nodes, vtype=GRB.BINARY) "
   ]
  },
  {
   "cell_type": "code",
   "execution_count": 10,
   "metadata": {},
   "outputs": [],
   "source": [
    "# objective is to minimize the moment of inertia: d^2 * p * x\n",
    "m.setObjective( gp.quicksum( dist[i,j]*dist[i,j]*G.nodes[i]['TOTPOP']*x[i,j] for i in G.nodes for j in G.nodes), GRB.MINIMIZE )"
   ]
  },
  {
   "cell_type": "code",
   "execution_count": 11,
   "metadata": {},
   "outputs": [],
   "source": [
    "# add constraints saying that each county i is assigned to one district\n",
    "m.addConstrs( gp.quicksum(x[i,j] for j in G.nodes) == 1 for i in G.nodes)\n",
    "\n",
    "# add constraint saying there should be k district centers\n",
    "m.addConstr( gp.quicksum( x[j,j] for j in G.nodes ) == k )\n",
    "\n",
    "# add constraints that say: if j roots a district, then its population is between L and U.\n",
    "m.addConstrs( gp.quicksum( G.nodes[i]['TOTPOP'] * x[i,j] for i in G.nodes) >= L * x[j,j] for j in G.nodes )\n",
    "m.addConstrs( gp.quicksum( G.nodes[i]['TOTPOP'] * x[i,j] for i in G.nodes) <= U * x[j,j] for j in G.nodes )\n",
    "\n",
    "# add coupling constraints saying that if i is assigned to j, then j is a center.\n",
    "m.addConstrs( x[i,j] <= x[j,j] for i in G.nodes for j in G.nodes )\n",
    "\n",
    "m.update()"
   ]
  },
  {
   "cell_type": "code",
   "execution_count": 12,
   "metadata": {},
   "outputs": [],
   "source": [
    "# Add contiguity constraints\n",
    "\n",
    "import networkx as nx\n",
    "DG = nx.DiGraph(G)\n",
    "\n",
    "# Add variable f[j,u,v] which equals the amount of flow (originally from j) that is sent across arc (u,v)\n",
    "f = m.addVars( DG.nodes, DG.edges, vtype=GRB.CONTINUOUS)\n",
    "M = DG.number_of_nodes()-1\n",
    "\n",
    "# Add constraint saying that node j cannot receive flow of its own type\n",
    "m.addConstrs( gp.quicksum( f[j,u,j] for u in DG.neighbors(j) ) == 0 for j in DG.nodes )\n",
    "\n",
    "# Add constraints saying that node i can receive flow of type j only if i is assigned to j\n",
    "m.addConstrs( gp.quicksum( f[j,u,i] for u in DG.neighbors(i)) <= M * x[i,j] for i in DG.nodes for j in DG.nodes if i != j )\n",
    "\n",
    "# If i is assigned to j, then i should consume one unit of j flow. \n",
    "#    Otherwise, i should consume no units of j flow.\n",
    "m.addConstrs( gp.quicksum( f[j,u,i] - f[j,i,u] for u in DG.neighbors(i)) == x[i,j] for i in DG.nodes for j in DG.nodes if i != j )\n",
    "\n",
    "m.update()"
   ]
  },
  {
   "cell_type": "code",
   "execution_count": 13,
   "metadata": {},
   "outputs": [
    {
     "name": "stdout",
     "output_type": "stream",
     "text": [
      "Changed value of parameter MIPGap to 0.0\n",
      "   Prev: 0.0001  Min: 0.0  Max: inf  Default: 0.0001\n",
      "Gurobi Optimizer version 9.1.1 build v9.1.1rc0 (win64)\n",
      "Thread count: 4 physical cores, 8 logical processors, using up to 8 threads\n",
      "Optimize a model with 17942 rows, 35959 columns and 130582 nonzeros\n",
      "Model fingerprint: 0x2d29c9df\n",
      "Variable types: 30030 continuous, 5929 integer (5929 binary)\n",
      "Coefficient statistics:\n",
      "  Matrix range     [1e+00, 8e+05]\n",
      "  Objective range  [1e+06, 8e+10]\n",
      "  Bounds range     [1e+00, 1e+00]\n",
      "  RHS range        [1e+00, 5e+00]\n",
      "Warning: Model contains large objective coefficients\n",
      "         Consider reformulating model or setting NumericFocus parameter\n",
      "         to avoid numerical issues.\n",
      "Presolve removed 824 rows and 1904 columns\n",
      "Presolve time: 0.71s\n",
      "Presolved: 17118 rows, 34055 columns, 124969 nonzeros\n",
      "Variable types: 28244 continuous, 5811 integer (5811 binary)\n",
      "\n",
      "Deterministic concurrent LP optimizer: primal and dual simplex\n",
      "Showing first log only...\n",
      "\n",
      "Concurrent spin time: 0.00s\n",
      "\n",
      "Solved with dual simplex\n",
      "\n",
      "Root relaxation: objective 8.181882e+09, 2557 iterations, 0.57 seconds\n",
      "\n",
      "    Nodes    |    Current Node    |     Objective Bounds      |     Work\n",
      " Expl Unexpl |  Obj  Depth IntInf | Incumbent    BestBd   Gap | It/Node Time\n",
      "\n",
      "     0     0 8.1819e+09    0  236          - 8.1819e+09      -     -    2s\n",
      "     0     0 8.2063e+09    0  215          - 8.2063e+09      -     -    3s\n",
      "     0     0 8.2182e+09    0  212          - 8.2182e+09      -     -    3s\n",
      "     0     0 8.2211e+09    0  213          - 8.2211e+09      -     -    3s\n",
      "     0     0 8.2220e+09    0  170          - 8.2220e+09      -     -    4s\n",
      "     0     0 8.2220e+09    0  213          - 8.2220e+09      -     -    4s\n",
      "     0     0 8.2397e+09    0  252          - 8.2397e+09      -     -    5s\n",
      "     0     0 8.2474e+09    0  290          - 8.2474e+09      -     -    5s\n",
      "     0     0 8.2474e+09    0  289          - 8.2474e+09      -     -    5s\n",
      "     0     0 8.2527e+09    0  334          - 8.2527e+09      -     -    6s\n",
      "     0     0 8.2545e+09    0  270          - 8.2545e+09      -     -    6s\n",
      "     0     0 8.2546e+09    0  273          - 8.2546e+09      -     -    6s\n",
      "     0     0 8.2546e+09    0  273          - 8.2546e+09      -     -    6s\n",
      "     0     0 8.2559e+09    0  292          - 8.2559e+09      -     -    6s\n",
      "     0     0 8.2560e+09    0  326          - 8.2560e+09      -     -    6s\n",
      "     0     0 8.2560e+09    0  329          - 8.2560e+09      -     -    7s\n",
      "     0     0 8.2573e+09    0  303          - 8.2573e+09      -     -    7s\n",
      "     0     0 8.2575e+09    0  309          - 8.2575e+09      -     -    7s\n",
      "     0     0 8.2576e+09    0  309          - 8.2576e+09      -     -    7s\n",
      "     0     0 8.2578e+09    0  285          - 8.2578e+09      -     -    7s\n",
      "     0     0 8.2578e+09    0  286          - 8.2578e+09      -     -    7s\n",
      "     0     0 8.2618e+09    0  303          - 8.2618e+09      -     -    8s\n",
      "     0     0 8.2671e+09    0  292          - 8.2671e+09      -     -    8s\n",
      "     0     0 8.2704e+09    0  292          - 8.2704e+09      -     -    8s\n",
      "     0     0 8.2721e+09    0  290          - 8.2721e+09      -     -    8s\n",
      "     0     0 8.2733e+09    0  289          - 8.2733e+09      -     -    8s\n",
      "     0     0 8.2744e+09    0  292          - 8.2744e+09      -     -    9s\n",
      "     0     0 8.2756e+09    0  292          - 8.2756e+09      -     -    9s\n",
      "H    0     0                    9.237705e+09 8.2756e+09  10.4%     -   12s\n",
      "     0     0 8.2756e+09    0  230 9.2377e+09 8.2756e+09  10.4%     -   14s\n",
      "H    0     0                    9.083174e+09 8.2756e+09  8.89%     -   15s\n",
      "H    0     0                    9.068209e+09 8.2756e+09  8.74%     -   15s\n",
      "     0     0 8.2756e+09    0  179 9.0682e+09 8.2756e+09  8.74%     -   15s\n",
      "H    0     0                    8.467091e+09 8.2756e+09  2.26%     -   15s\n",
      "     0     0 8.2756e+09    0  276 8.4671e+09 8.2756e+09  2.26%     -   15s\n",
      "     0     0 8.2756e+09    0  259 8.4671e+09 8.2756e+09  2.26%     -   15s\n",
      "H    0     0                    8.462301e+09 8.2756e+09  2.21%     -   15s\n",
      "     0     0 8.2756e+09    0  279 8.4623e+09 8.2756e+09  2.21%     -   15s\n",
      "     0     0 8.2756e+09    0  270 8.4623e+09 8.2756e+09  2.21%     -   16s\n",
      "     0     0 8.2756e+09    0  273 8.4623e+09 8.2756e+09  2.21%     -   16s\n",
      "     0     0 8.2756e+09    0  265 8.4623e+09 8.2756e+09  2.21%     -   16s\n",
      "     0     0 8.2756e+09    0  274 8.4623e+09 8.2756e+09  2.21%     -   16s\n",
      "     0     0 8.2756e+09    0  277 8.4623e+09 8.2756e+09  2.21%     -   16s\n",
      "     0     0 8.2756e+09    0  294 8.4623e+09 8.2756e+09  2.21%     -   16s\n",
      "     0     0 8.2756e+09    0  148 8.4623e+09 8.2756e+09  2.21%     -   17s\n",
      "     0     0 8.2756e+09    0  222 8.4623e+09 8.2756e+09  2.21%     -   17s\n",
      "     0     0 8.2756e+09    0  208 8.4623e+09 8.2756e+09  2.21%     -   17s\n",
      "     0     0 8.2756e+09    0  232 8.4623e+09 8.2756e+09  2.21%     -   17s\n",
      "     0     0 8.2756e+09    0  237 8.4623e+09 8.2756e+09  2.21%     -   17s\n",
      "     0     0 8.2768e+09    0  245 8.4623e+09 8.2768e+09  2.19%     -   17s\n",
      "     0     0 8.2853e+09    0  288 8.4623e+09 8.2853e+09  2.09%     -   17s\n",
      "     0     0 8.2962e+09    0  197 8.4623e+09 8.2962e+09  1.96%     -   17s\n",
      "     0     0 8.2988e+09    0  300 8.4623e+09 8.2988e+09  1.93%     -   17s\n",
      "     0     0 8.3016e+09    0  300 8.4623e+09 8.3016e+09  1.90%     -   17s\n",
      "H    0     0                    8.402532e+09 8.3288e+09  0.88%     -   18s\n",
      "     0     0 8.3288e+09    0  270 8.4025e+09 8.3288e+09  0.88%     -   18s\n",
      "     0     0 8.3288e+09    0  122 8.4025e+09 8.3288e+09  0.88%     -   18s\n",
      "     0     0 8.3288e+09    0  171 8.4025e+09 8.3288e+09  0.88%     -   18s\n",
      "     0     0 8.3288e+09    0  173 8.4025e+09 8.3288e+09  0.88%     -   18s\n",
      "     0     0 8.3288e+09    0  176 8.4025e+09 8.3288e+09  0.88%     -   18s\n",
      "     0     0 8.3288e+09    0  177 8.4025e+09 8.3288e+09  0.88%     -   18s\n",
      "     0     0 8.3288e+09    0  178 8.4025e+09 8.3288e+09  0.88%     -   18s\n",
      "     0     0 8.3288e+09    0  197 8.4025e+09 8.3288e+09  0.88%     -   18s\n",
      "     0     0 8.3314e+09    0  179 8.4025e+09 8.3314e+09  0.85%     -   18s\n",
      "     0     0 8.3357e+09    0  181 8.4025e+09 8.3357e+09  0.80%     -   18s\n",
      "     0     0 8.3420e+09    0  180 8.4025e+09 8.3420e+09  0.72%     -   18s\n",
      "\n",
      "Cutting planes:\n",
      "  Gomory: 2\n",
      "  Cover: 18\n",
      "  MIR: 5\n",
      "  StrongCG: 2\n",
      "  Flow cover: 34\n",
      "  GUB cover: 6\n",
      "  Zero half: 1\n",
      "  RLT: 1\n",
      "\n",
      "Explored 1 nodes (11553 simplex iterations) in 18.69 seconds\n",
      "Thread count was 8 (of 8 available processors)\n",
      "\n",
      "Solution count 6: 8.40253e+09 8.4623e+09 8.46709e+09 ... 9.2377e+09\n",
      "\n",
      "Optimal solution found (tolerance 0.00e+00)\n",
      "Best objective 8.402531933751e+09, best bound 8.402531933751e+09, gap 0.0000%\n"
     ]
    }
   ],
   "source": [
    "# solve, making sure to set a 0.00% MIP gap tolerance(!)\n",
    "m.Params.MIPGap = 0.0\n",
    "m.optimize()"
   ]
  },
  {
   "cell_type": "code",
   "execution_count": 14,
   "metadata": {},
   "outputs": [
    {
     "name": "stdout",
     "output_type": "stream",
     "text": [
      "The moment of inertia objective is 8402531933.751296\n",
      "District 0 has population 749255 and contains counties ['Caddo', 'Greer', 'Jefferson', 'Tillman', 'Harper', 'Grant', 'Dewey', 'Texas', 'Roger Mills', 'Kiowa', 'Beckham', 'Harmon', 'Major', 'Alfalfa', 'Beaver', 'Stephens', 'Jackson', 'Cimarron', 'Ellis', 'McClain', 'Grady', 'Blaine', 'Woodward', 'Kingfisher', 'Comanche', 'Cotton', 'Custer', 'Garfield', 'Washita', 'Logan', 'Canadian', 'Woods']\n",
      "District 1 has population 752906 and contains counties ['Oklahoma', 'Lincoln']\n",
      "District 2 has population 748413 and contains counties ['Tulsa', 'Kay', 'Washington', 'Osage']\n",
      "District 3 has population 751778 and contains counties ['Delaware', 'McIntosh', 'Choctaw', 'Le Flore', 'Nowata', 'Atoka', 'Adair', 'Craig', 'Pushmataha', 'Mayes', 'Muskogee', 'Ottawa', 'Pittsburg', 'Latimer', 'Hughes', 'Sequoyah', 'Haskell', 'Cherokee', 'Wagoner', 'Okmulgee', 'Rogers', 'McCurtain']\n",
      "District 4 has population 748999 and contains counties ['Payne', 'Marshall', 'Coal', 'Seminole', 'Murray', 'Okfuskee', 'Pontotoc', 'Noble', 'Love', 'Bryan', 'Creek', 'Garvin', 'Cleveland', 'Carter', 'Johnston', 'Pawnee', 'Pottawatomie']\n"
     ]
    }
   ],
   "source": [
    "print(\"The moment of inertia objective is\",m.objval)\n",
    "\n",
    "# retrieve the districts and their populations\n",
    "centers = [j for j in G.nodes if x[j,j].x > 0.5 ]\n",
    "districts = [ [i for i in G.nodes if x[i,j].x > 0.5] for j in centers]\n",
    "district_counties = [ [ G.nodes[i][\"NAME10\"] for i in districts[j] ] for j in range(k)]\n",
    "district_populations = [ sum(G.nodes[i][\"TOTPOP\"] for i in districts[j]) for j in range(k) ]\n",
    "\n",
    "# print district info\n",
    "for j in range(k):\n",
    "    print(\"District\",j,\"has population\",district_populations[j],\"and contains counties\",district_counties[j])"
   ]
  },
  {
   "cell_type": "code",
   "execution_count": 15,
   "metadata": {},
   "outputs": [],
   "source": [
    "# Let's draw it on a map\n",
    "import geopandas as gpd"
   ]
  },
  {
   "cell_type": "code",
   "execution_count": 16,
   "metadata": {},
   "outputs": [],
   "source": [
    "# Read Oklahoma county shapefile from \"OK_county.shp\"\n",
    "filepath = 'C:\\\\districting-data\\\\'\n",
    "filename = 'OK_county.shp'\n",
    "\n",
    "# Read geopandas dataframe from file\n",
    "df = gpd.read_file( filepath + filename )"
   ]
  },
  {
   "cell_type": "code",
   "execution_count": 17,
   "metadata": {},
   "outputs": [
    {
     "data": {
      "image/png": "[encoded data removed]",
      "text/plain": [
       "<Figure size 432x288 with 1 Axes>"
      ]
     },
     "metadata": {
      "needs_background": "light"
     },
     "output_type": "display_data"
    }
   ],
   "source": [
    "# Which district is each county assigned to?\n",
    "assignment = [ -1 for u in G.nodes ]\n",
    "    \n",
    "# for each district j\n",
    "for j in range(len(districts)):\n",
    "    \n",
    "    # for each node i in this district\n",
    "    for i in districts[j]:\n",
    "        \n",
    "        # What is its GEOID?\n",
    "        geoID = G.nodes[i][\"GEOID10\"]\n",
    "        \n",
    "        # Need to find this GEOID in the dataframe\n",
    "        for u in G.nodes:\n",
    "            if geoID == df['GEOID10'][u]: # Found it\n",
    "                assignment[u] = j # Node u from the dataframe should be assigned to district j\n",
    "\n",
    "# Now add the assignments to a column of the dataframe and map it\n",
    "df['assignment'] = assignment\n",
    "my_fig = df.plot(column='assignment').get_figure()"
   ]
  },
  {
   "cell_type": "code",
   "execution_count": null,
   "metadata": {},
   "outputs": [],
   "source": []
  }
 ],
 "metadata": {
  "kernelspec": {
   "display_name": "Python 3",
   "language": "python",
   "name": "python3"
  },
  "language_info": {
   "codemirror_mode": {
    "name": "ipython",
    "version": 3
   },
   "file_extension": ".py",
   "mimetype": "text/x-python",
   "name": "python",
   "nbconvert_exporter": "python",
   "pygments_lexer": "ipython3",
   "version": "3.7.10"
  }
 },
 "nbformat": 4,
 "nbformat_minor": 4
}
