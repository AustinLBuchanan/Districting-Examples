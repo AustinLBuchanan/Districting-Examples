{
 "cells": [
  {
   "cell_type": "code",
   "execution_count": 1,
   "metadata": {},
   "outputs": [
    {
     "name": "stdout",
     "output_type": "stream",
     "text": [
      "population =  [255755, 11943, 45837, 20081, 50976, 15034, 124098, 6193, 27469, 60580, 11154, 11629, 69967, 14003, 42391, 12769, 41848, 47472, 46987, 73085, 27576, 34273, 52431, 115541, 40069, 8878, 47557, 10957, 16577, 86905, 69442, 33151, 77350, 29600, 41487, 15840, 6239, 5925, 25482, 13488, 6472, 7992, 20252, 15205, 3685, 4527, 4810, 718633, 50384, 10536, 20640, 12191, 37492, 3647, 9446, 603403, 22119, 14182, 22683, 11561, 2922, 7527, 5642, 15029, 9423, 5636, 11572, 45048, 41259, 42416, 46562, 70990, 26446, 2475, 4151, 31848, 34506]\n"
     ]
    }
   ],
   "source": [
    "# read the text file \"OK.population\" and store in the list called population\n",
    "population = list()\n",
    "\n",
    "# open the text file for reading\n",
    "filepath = \"C:\\\\districting-data\\\\\"\n",
    "filename = \"OK.population\"\n",
    "file = open( filepath + filename ,\"r\")\n",
    "\n",
    "# while the current line is not empty, read in a new county population\n",
    "line = file.readline()\n",
    "\n",
    "while line != \"\":\n",
    "    # split the line into two \"words\": \n",
    "    #    word[0]: the county's number\n",
    "    #    word[1]: the county's population\n",
    "    words = line.split() \n",
    "    county_number = words[0]\n",
    "    county_population = int(words[1]) # cast the string as type int\n",
    "    \n",
    "    # append to population list\n",
    "    population.append(county_population)\n",
    "    \n",
    "    # read next line\n",
    "    line = file.readline() \n",
    "\n",
    "file.close()\n",
    "print(\"population = \",population)"
   ]
  },
  {
   "cell_type": "code",
   "execution_count": 2,
   "metadata": {},
   "outputs": [],
   "source": [
    "# we are to solve the following task:\n",
    "# input: a population vector, desired number of districts k\n",
    "# output: a partition of the populations into k districts (not necessarily connected!) \n",
    "#            to minimize the difference between most and least populated districts\n",
    "\n",
    "import gurobipy as gp\n",
    "from gurobipy import GRB"
   ]
  },
  {
   "cell_type": "code",
   "execution_count": 3,
   "metadata": {},
   "outputs": [
    {
     "name": "stdout",
     "output_type": "stream",
     "text": [
      "Academic license - for non-commercial use only - expires 2021-04-22\n",
      "Using license file C:\\Users\\buchanan\\gurobi.lic\n"
     ]
    }
   ],
   "source": [
    "n = len(population) # number of counties\n",
    "k = 5               # desired number of districts\n",
    "\n",
    "# create model \n",
    "m = gp.Model()\n",
    "\n",
    "# create variables\n",
    "x = m.addVars(n,k,vtype=GRB.BINARY) # x_ij equals one when county i is assigned to district j\n",
    "y = m.addVar()                      # the population of least-populated district\n",
    "z = m.addVar()                      # the population of most-populated district"
   ]
  },
  {
   "cell_type": "code",
   "execution_count": 4,
   "metadata": {},
   "outputs": [
    {
     "data": {
      "text/plain": [
       "{0: <gurobi.Constr *Awaiting Model Update*>,\n",
       " 1: <gurobi.Constr *Awaiting Model Update*>,\n",
       " 2: <gurobi.Constr *Awaiting Model Update*>,\n",
       " 3: <gurobi.Constr *Awaiting Model Update*>,\n",
       " 4: <gurobi.Constr *Awaiting Model Update*>}"
      ]
     },
     "execution_count": 4,
     "metadata": {},
     "output_type": "execute_result"
    }
   ],
   "source": [
    "# objective is to minimize absolute population deviation\n",
    "m.setObjective(z-y,GRB.MINIMIZE)\n",
    "\n",
    "# add constraints saying that each county i is assigned to one district\n",
    "m.addConstrs( sum(x[i,j] for j in range(k)) == 1 for i in range(n) )\n",
    "\n",
    "# add constraints saying that each district has population at least y\n",
    "m.addConstrs( y <= sum( population[i] * x[i,j] for i in range(n) ) for j in range(k) )\n",
    "\n",
    "# add constraints saying that each district has population at most z\n",
    "m.addConstrs( sum( population[i] * x[i,j] for i in range(n)) <= z for j in range(k) )"
   ]
  },
  {
   "cell_type": "code",
   "execution_count": 5,
   "metadata": {},
   "outputs": [
    {
     "name": "stdout",
     "output_type": "stream",
     "text": [
      "Gurobi Optimizer version 9.1.1 build v9.1.1rc0 (win64)\n",
      "Thread count: 4 physical cores, 8 logical processors, using up to 8 threads\n",
      "Optimize a model with 87 rows, 387 columns and 1165 nonzeros\n",
      "Model fingerprint: 0x235259e8\n",
      "Variable types: 2 continuous, 385 integer (385 binary)\n",
      "Coefficient statistics:\n",
      "  Matrix range     [1e+00, 7e+05]\n",
      "  Objective range  [1e+00, 1e+00]\n",
      "  Bounds range     [1e+00, 1e+00]\n",
      "  RHS range        [1e+00, 1e+00]\n",
      "Found heuristic solution: objective 1149841.0000\n",
      "Presolve time: 0.00s\n",
      "Presolved: 87 rows, 387 columns, 1165 nonzeros\n",
      "Variable types: 0 continuous, 387 integer (385 binary)\n",
      "\n",
      "Root relaxation: objective 0.000000e+00, 125 iterations, 0.00 seconds\n",
      "\n",
      "    Nodes    |    Current Node    |     Objective Bounds      |     Work\n",
      " Expl Unexpl |  Obj  Depth IntInf | Incumbent    BestBd   Gap | It/Node Time\n",
      "\n",
      "     0     0    0.00000    0    7 1149841.00    0.00000   100%     -    0s\n",
      "H    0     0                    85663.000000    0.00000   100%     -    0s\n",
      "H    0     0                    73561.000000    0.00000   100%     -    0s\n",
      "H    0     0                    56005.000000    0.00000   100%     -    0s\n",
      "H    0     0                    37551.000000    0.00000   100%     -    0s\n",
      "     0     0    0.20000    0   10 37551.0000    0.20000   100%     -    0s\n",
      "H    0     0                    3005.0000000    0.20000   100%     -    0s\n",
      "H    0     0                    1874.0000000    0.20000   100%     -    0s\n",
      "     0     0    1.00000    0    9 1874.00000    1.00000   100%     -    0s\n",
      "H    0     0                    1297.0000000    1.00000   100%     -    0s\n",
      "     0     0    1.00000    0   10 1297.00000    1.00000   100%     -    0s\n",
      "     0     0    1.00000    0   11 1297.00000    1.00000   100%     -    0s\n",
      "H    0     0                    1241.0000000    1.00000   100%     -    0s\n",
      "     0     0    1.00000    0   12 1241.00000    1.00000   100%     -    0s\n",
      "     0     0    1.00000    0    7 1241.00000    1.00000   100%     -    0s\n",
      "     0     0    1.00000    0    6 1241.00000    1.00000   100%     -    0s\n",
      "     0     0    1.00000    0    7 1241.00000    1.00000   100%     -    0s\n",
      "     0     0    1.00000    0    7 1241.00000    1.00000   100%     -    0s\n",
      "     0     0    1.00000    0   12 1241.00000    1.00000   100%     -    0s\n",
      "     0     0    1.00000    0    5 1241.00000    1.00000   100%     -    0s\n",
      "H    0     0                    1232.0000000    1.00000   100%     -    0s\n",
      "     0     0    1.00000    0    8 1232.00000    1.00000   100%     -    0s\n",
      "     0     0    1.00000    0   10 1232.00000    1.00000   100%     -    0s\n",
      "H    0     0                     689.0000000    1.00000   100%     -    0s\n",
      "     0     0    1.00000    0    6  689.00000    1.00000   100%     -    0s\n",
      "     0     0    1.00000    0    6  689.00000    1.00000   100%     -    0s\n",
      "H    0     0                     415.0000000    1.00000   100%     -    0s\n",
      "     0     0    1.00000    0    8  415.00000    1.00000   100%     -    0s\n",
      "     0     0    1.00000    0   10  415.00000    1.00000   100%     -    0s\n",
      "     0     0    1.00000    0   12  415.00000    1.00000   100%     -    0s\n",
      "H    0     0                     350.0000000    1.00000   100%     -    0s\n",
      "     0     0    1.00000    0    5  350.00000    1.00000   100%     -    0s\n",
      "H    0     0                     319.0000000    1.00000   100%     -    0s\n",
      "     0     0    1.00000    0    6  319.00000    1.00000   100%     -    0s\n",
      "H    0     0                     278.0000000    1.00000   100%     -    0s\n",
      "H    0     0                     181.0000000    1.00000  99.4%     -    0s\n",
      "     0     0    1.00000    0    5  181.00000    1.00000  99.4%     -    0s\n",
      "     0     0    1.00000    0   10  181.00000    1.00000  99.4%     -    0s\n",
      "     0     0    1.00000    0    8  181.00000    1.00000  99.4%     -    0s\n",
      "     0     0    1.00000    0    6  181.00000    1.00000  99.4%     -    0s\n",
      "     0     0    1.00000    0    6  181.00000    1.00000  99.4%     -    0s\n",
      "H    0     2                     178.0000000    1.00000  99.4%     -    0s\n",
      "     0     2    1.00000    0    6  178.00000    1.00000  99.4%     -    0s\n",
      "H  111   189                     170.0000000    1.00000  99.4%   5.6    0s\n",
      "H  871   800                      67.0000000    1.00000  98.5%   4.2    0s\n",
      "H 1864  1395                      23.0000000    1.00000  95.7%   3.6    0s\n",
      "H 1870  1329                      22.0000000    1.00000  95.5%   3.6    0s\n",
      "H 1917  1297                      19.0000000    1.00000  94.7%   4.6    1s\n",
      "H 1952  1309                      14.0000000    1.00000  92.9%   4.5    1s\n",
      "H 2001  1233                      11.0000000    1.00000  90.9%   4.5    1s\n",
      "H15688  5062                      10.0000000    1.00000  90.0%   5.3    2s\n",
      "*48697  9428             122       7.0000000    1.00000  85.7%   5.5    4s\n",
      " 57242 10025    1.00000  124    6    7.00000    1.00000  85.7%   5.4    5s\n",
      "H78409 11074                       6.0000000    1.00000  83.3%   5.2    5s\n",
      "H83703 11258                       5.0000000    1.00000  80.0%   5.2    6s\n",
      " 145565 15945 infeasible  125         5.00000    1.00000  80.0%   5.3   10s\n",
      "H222138 18598                       3.0000000    1.00000  66.7%   5.7   14s\n",
      " 237488 19620    1.00000  112    8    3.00000    1.00000  66.7%   5.8   15s\n",
      " 329813 20667    1.00000  117    6    3.00000    1.00000  66.7%   6.5   20s\n",
      "H367344 21511                       2.0000000    1.00000  50.0%   6.5   22s\n",
      " 397306 17749 infeasible  134         2.00000    1.00000  50.0%   6.6   25s\n",
      " 512591 21152    1.00000  145    4    2.00000    1.00000  50.0%   6.4   30s\n",
      " 621492 40275    1.00000  147    5    2.00000    1.00000  50.0%   6.1   35s\n",
      " 739183 63223 infeasible  149         2.00000    1.00000  50.0%   5.9   40s\n",
      " 866357 93232    1.00000  151    6    2.00000    1.00000  50.0%   5.8   45s\n",
      "H881687   541                       1.0000000    1.00000  0.00%   5.8   45s\n",
      "\n",
      "Cutting planes:\n",
      "  Gomory: 1\n",
      "  Cover: 1\n",
      "  MIR: 3\n",
      "  StrongCG: 3\n",
      "  RLT: 2\n",
      "\n",
      "Explored 882101 nodes (5128599 simplex iterations) in 45.71 seconds\n",
      "Thread count was 8 (of 8 available processors)\n",
      "\n",
      "Solution count 10: 1 2 3 ... 19\n",
      "\n",
      "Optimal solution found (tolerance 1.00e-04)\n",
      "Best objective 1.000000000000e+00, best bound 1.000000000000e+00, gap 0.0000%\n"
     ]
    }
   ],
   "source": [
    "# solve IP model\n",
    "m.optimize()"
   ]
  },
  {
   "cell_type": "code",
   "execution_count": 7,
   "metadata": {},
   "outputs": [
    {
     "name": "stdout",
     "output_type": "stream",
     "text": [
      "The absolute population deviation is 1.0 person(s).\n",
      "District 0 has population 750270 and contains counties [0, 1, 5, 9, 10, 11, 12, 17, 26, 30, 33, 34, 35, 37, 42, 45, 58, 64]\n",
      "District 1 has population 750270 and contains counties [39, 40, 41, 44, 47]\n",
      "District 2 has population 750270 and contains counties [22, 46, 55, 60, 65, 70, 76]\n",
      "District 3 has population 750270 and contains counties [2, 3, 6, 7, 8, 13, 14, 15, 16, 18, 19, 20, 25, 27, 31, 36, 43, 49, 50, 53, 54, 61, 62, 63, 66, 71, 73, 74, 75]\n",
      "District 4 has population 750271 and contains counties [4, 21, 23, 24, 28, 29, 32, 38, 48, 51, 52, 56, 57, 59, 67, 68, 69, 72]\n"
     ]
    }
   ],
   "source": [
    "# print the absolute population deviation\n",
    "print(\"The absolute population deviation is\",m.objval,\"person(s).\")\n",
    "\n",
    "# retrieve the districts and their populations\n",
    "districts = [ [i for i in range(n) if x[i,j].x > 0.5] for j in range(k)]\n",
    "district_populations = [ sum(population[i] for i in district) for district in districts ]\n",
    "\n",
    "# print district info\n",
    "for j in range(k):\n",
    "    print(\"District\",j,\"has population\",district_populations[j],\"and contains counties\",districts[j])"
   ]
  },
  {
   "cell_type": "code",
   "execution_count": null,
   "metadata": {},
   "outputs": [],
   "source": []
  }
 ],
 "metadata": {
  "kernelspec": {
   "display_name": "Python 3",
   "language": "python",
   "name": "python3"
  },
  "language_info": {
   "codemirror_mode": {
    "name": "ipython",
    "version": 3
   },
   "file_extension": ".py",
   "mimetype": "text/x-python",
   "name": "python",
   "nbconvert_exporter": "python",
   "pygments_lexer": "ipython3",
   "version": "3.7.10"
  }
 },
 "nbformat": 4,
 "nbformat_minor": 4
}
